{
 "cells": [
  {
   "cell_type": "markdown",
   "metadata": {},
   "source": [
    "## Conic Optimization using ECOS Python"
   ]
  },
  {
   "cell_type": "markdown",
   "metadata": {},
   "source": [
    "A conic problem has conic (nonlinear) constraints in addition to linear objective function and\n",
    "linear constraints. Thus linear optimization is a special case of conic optimization.\n",
    "ECOS is an open-source solver for computing solutions to conic optimization problems. <br>Its\n",
    "documentation and source code are available online.<br>\n",
    "https://www.embotech.com/ECOS<br>\n",
    "https://github.com/embotech/ecos"
   ]
  },
  {
   "cell_type": "markdown",
   "metadata": {},
   "source": [
    "### Problem 1:\n",
    "Write a program to solve a linear optimization problem in 'n' variables. Your program\n",
    "should ask the user to enter an integer value 'n' when prompted, and solve the\n",
    "following problem by calling the ECOS library.<br>\n",
    "$$Minimize: x_1 + 3x_2 + 6x_3 + 10x_4 + ... + (n(n+1)/2)x_n$$\n",
    "$$subject\\ to:$$\n",
    "$$x_1 + x_2 + ... + x_n >= n/2$$\n",
    "$$x_1 >= 0$$\n",
    "$$x_2 >= 0$$\n",
    "$$...$$\n",
    "$$x_n >= 0$$"
   ]
  },
  {
   "cell_type": "code",
   "execution_count": 1,
   "metadata": {
    "collapsed": true
   },
   "outputs": [],
   "source": [
    "import ecos\n",
    "import numpy as np\n",
    "from scipy import sparse"
   ]
  },
  {
   "cell_type": "code",
   "execution_count": 2,
   "metadata": {},
   "outputs": [
    {
     "name": "stdout",
     "output_type": "stream",
     "text": [
      "Enter a positive integer:2\n"
     ]
    }
   ],
   "source": [
    "##### Part 1 ####\n",
    "n=int(input(\"Enter a positive integer:\"))"
   ]
  },
  {
   "cell_type": "code",
   "execution_count": 3,
   "metadata": {},
   "outputs": [
    {
     "name": "stdout",
     "output_type": "stream",
     "text": [
      "  (0, 0)\t-1.0\n",
      "  (1, 0)\t-1.0\n",
      "  (0, 1)\t-1.0\n",
      "  (2, 1)\t-1.0\n",
      "[-1.  0.  0.]\n"
     ]
    }
   ],
   "source": [
    "c=np.zeros(n)\n",
    "g=np.identity(n)\n",
    "g_up=np.ones((1,n))\n",
    "G=np.concatenate((g_up,g))\n",
    "G=-G\n",
    "G=sparse.csc_matrix(G)\n",
    "h=np.zeros(n+1)\n",
    "h[0]=-n/2\n",
    "print(G)\n",
    "print(h) "
   ]
  },
  {
   "cell_type": "code",
   "execution_count": 4,
   "metadata": {},
   "outputs": [
    {
     "name": "stdout",
     "output_type": "stream",
     "text": [
      "[ 1.  3.]\n"
     ]
    }
   ],
   "source": [
    "for i in range(n):\n",
    "    c[i]=(i+2)*(i+1)/2\n",
    "print(c)    \n",
    "# print(type(G))"
   ]
  },
  {
   "cell_type": "code",
   "execution_count": 5,
   "metadata": {},
   "outputs": [
    {
     "name": "stdout",
     "output_type": "stream",
     "text": [
      "\n",
      "ECOS 2.0.4 - (C) embotech GmbH, Zurich Switzerland, 2012-15. Web: www.embotech.com/ECOS\n",
      "\n",
      "It     pcost       dcost      gap   pres   dres    k/t    mu     step   sigma     IR    |   BT\n",
      " 0  +1.333e+00  +2.667e+00  +9e+00  6e-01  5e-01  1e+00  3e+00    ---    ---    1  1  - |  -  - \n",
      " 1  +9.087e-01  +1.124e+00  +6e-01  3e-02  4e-02  2e-01  3e-01  0.9286  3e-02   1  1  1 |  0  0\n",
      " 2  +9.975e-01  +1.001e+00  +1e-02  6e-04  6e-04  3e-03  5e-03  0.9830  3e-04   2  2  2 |  0  0\n",
      " 3  +1.000e+00  +1.000e+00  +1e-04  7e-06  7e-06  3e-05  5e-05  0.9890  1e-04   3  2  2 |  0  0\n",
      " 4  +1.000e+00  +1.000e+00  +1e-06  7e-08  7e-08  4e-07  6e-07  0.9890  1e-04   6  2  2 |  0  0\n",
      " 5  +1.000e+00  +1.000e+00  +1e-08  8e-10  8e-10  4e-09  6e-09  0.9890  1e-04   2  1  1 |  0  0\n",
      " 6  +1.000e+00  +1.000e+00  +2e-10  9e-12  9e-12  5e-11  7e-11  0.9890  1e-04   2  0  0 |  0  0\n",
      "\n",
      "OPTIMAL (within feastol=9.1e-12, reltol=1.5e-10, abstol=1.5e-10).\n",
      "Runtime: 0.000959 seconds.\n",
      "\n"
     ]
    }
   ],
   "source": [
    "dims={'l':n,'q':[1],'e':0}\n",
    "# solution = ecos.solve(c,G,h,dims,G,h, max_iters=100000,verbose=True)\n",
    "solution = ecos.solve(c,G,h,dims, max_iters=100000,verbose=True)"
   ]
  },
  {
   "cell_type": "code",
   "execution_count": 6,
   "metadata": {},
   "outputs": [
    {
     "name": "stdout",
     "output_type": "stream",
     "text": [
      "Optimal values of X:\n",
      "[  1.00000000e+00  -1.86759980e-11]\n",
      "0.999999999963\n"
     ]
    }
   ],
   "source": [
    "#print(solution)\n",
    "print(\"Optimal values of X:\")\n",
    "opt_x=solution['x']\n",
    "print(opt_x)\n",
    "Z=np.dot(c,opt_x)\n",
    "print(Z)"
   ]
  },
  {
   "cell_type": "markdown",
   "metadata": {},
   "source": [
    "### Problem 2:\n",
    "Write a program to solve the following linear optimization problem using ECOS\n",
    "$$Minimize: c^Tx$$\n",
    "$$subject\\ to:\\ s <= Ax <= b$$\n",
    "$$l <= x <= u$$\n",
    "where $A, b, c, l, s, u$ are given as user specified input.<br>\n",
    "Assume that the first line of the input has the format: n,m<br>\n",
    "Here n is the number of variables and m the number of constraints (A matrix is thus mxn in size)<br>\n",
    "The next line line is of the form:<br>\n",
    "c1, c2, ..., cn (without line breaks)<br>\n",
    "The next line line is of the form:<br>\n",
    "s1, s2, ..., sm (without line breaks)<br>\n",
    "The next line line is of the form:<br>\n",
    "b1, b2, ..., bm (without line breaks)<br>\n",
    "The next line line is of the form:<br>\n",
    "l1, l2, ..., ln (without line breaks)<br>\n",
    "The next line line is of the form:<br>\n",
    "u1, u2, ..., un (without line breaks)<br>\n",
    "Then we have m lines each containing the rows of A (elements separated by a comma). Your\n",
    "program should print whether the inputs were read correctly, the status returned by ECOS\n",
    "solver, and the optimal values of x."
   ]
  },
  {
   "cell_type": "code",
   "execution_count": 7,
   "metadata": {},
   "outputs": [
    {
     "name": "stdout",
     "output_type": "stream",
     "text": [
      "3,5\n",
      "1.0, 3.0, -2.0\n",
      "c:[ 1.  3. -2.]\n",
      "0.0, 1.0, 0.0, 0.0, 0.0\n",
      "s:[ 0.  1.  0.  0.  0.]\n",
      "15.0, 18.0, 20.0, 10.0, 10.0\n",
      "b:[ 15.  18.  20.  10.  10.]\n",
      "-50.0, -50.0, -50.0\n",
      "l:[-50. -50. -50.]\n",
      "50.0,  50.0,  50.0\n",
      "u:[ 50.  50.  50.]\n",
      "-1.0, 1.0, 1.0\n",
      "3.0,  1.0, 2.0\n",
      "1.0, 1.0, -1.0\n",
      "-1.0, 1.0, -1.0\n",
      "100.0, 2.0, -1.0\n",
      "A:\n",
      "[[  -1.    1.    1.]\n",
      " [   3.    1.    2.]\n",
      " [   1.    1.   -1.]\n",
      " [  -1.    1.   -1.]\n",
      " [ 100.    2.   -1.]]\n"
     ]
    }
   ],
   "source": [
    "##### Part 2 #####\n",
    "X=input()\n",
    "X=X.split(',')\n",
    "n=int(X[0])\n",
    "m=int(X[1])\n",
    "A=[]\n",
    "\n",
    "c=input()\n",
    "c=c.split(',')\n",
    "c=np.array(c,dtype=np.float32)\n",
    "print(\"c:\",end=\"\")        \n",
    "print(c) \n",
    "\n",
    "s=input()\n",
    "s=s.split(',')\n",
    "s=np.array(s,dtype=np.float32)\n",
    "print(\"s:\",end=\"\")\n",
    "print(s) \n",
    "\n",
    "b=input()\n",
    "b=b.split(',')\n",
    "b=np.array(b,dtype=np.float32)\n",
    "print(\"b:\",end=\"\")\n",
    "print(b)    \n",
    "\n",
    "l=input()\n",
    "l=l.split(',')\n",
    "l=np.array(l,dtype=np.float32)\n",
    "print(\"l:\",end=\"\")\n",
    "print(l)   \n",
    "\n",
    "u=input()\n",
    "u=u.split(',')\n",
    "u=np.array(u,dtype=np.float32)\n",
    "print(\"u:\",end=\"\")\n",
    "print(u) \n",
    "\n",
    "for i in range(m):\n",
    "    a=input()\n",
    "    a=a.split(',')\n",
    "    A.append(a)\n",
    "A=np.array(A,dtype=np.float32)\n",
    "print(\"A:\")\n",
    "print(A)"
   ]
  },
  {
   "cell_type": "code",
   "execution_count": 8,
   "metadata": {},
   "outputs": [
    {
     "name": "stdout",
     "output_type": "stream",
     "text": [
      "[[   1.   -1.   -1.]\n",
      " [  -3.   -1.   -2.]\n",
      " [  -1.   -1.    1.]\n",
      " [   1.   -1.    1.]\n",
      " [-100.   -2.    1.]\n",
      " [  -1.    1.    1.]\n",
      " [   3.    1.    2.]\n",
      " [   1.    1.   -1.]\n",
      " [  -1.    1.   -1.]\n",
      " [ 100.    2.   -1.]\n",
      " [  -1.    0.    0.]\n",
      " [   0.   -1.    0.]\n",
      " [   0.    0.   -1.]\n",
      " [   1.    0.    0.]\n",
      " [   0.    1.    0.]\n",
      " [   0.    0.    1.]]\n"
     ]
    }
   ],
   "source": [
    "G=np.zeros((2*m+2*n,n))\n",
    "for i in range(m):\n",
    "    for j in range(n):\n",
    "        G[i][j]=-A[i][j]\n",
    "        G[i+m][j]=A[i][j]\n",
    "for i in range(m):\n",
    "    for j in range(n):\n",
    "        if i==j:\n",
    "            G[i+2*m][j]=-1\n",
    "            G[i+2*m+n][j]=1;\n",
    "print(G) \n",
    "G=sparse.csc_matrix(G)"
   ]
  },
  {
   "cell_type": "code",
   "execution_count": 9,
   "metadata": {},
   "outputs": [
    {
     "name": "stdout",
     "output_type": "stream",
     "text": [
      "[ -0.  -1.  -0.  -0.  -0.  15.  18.  20.  10.  10.  50.  50.  50.  50.  50.\n",
      "  50.]\n"
     ]
    }
   ],
   "source": [
    "h=np.concatenate((-s,b))\n",
    "h=np.concatenate((h,-l))\n",
    "h=np.concatenate((h,u))\n",
    "print(h)"
   ]
  },
  {
   "cell_type": "code",
   "execution_count": 10,
   "metadata": {},
   "outputs": [
    {
     "name": "stdout",
     "output_type": "stream",
     "text": [
      "\n",
      "ECOS 2.0.4 - (C) embotech GmbH, Zurich Switzerland, 2012-15. Web: www.embotech.com/ECOS\n",
      "\n",
      "It     pcost       dcost      gap   pres   dres    k/t    mu     step   sigma     IR    |   BT\n",
      " 0  +1.743e+01  -1.215e+03  +1e+03  6e-03  3e-09  1e+00  7e+01    ---    ---    1  1  - |  -  - \n",
      " 1  +8.687e+00  -1.939e+02  +2e+02  1e-03  4e-08  6e-01  1e+01  0.8381  7e-03   0  0  0 |  0  0\n",
      " 2  +1.441e+00  -1.226e+01  +1e+01  7e-05  5e-08  2e-01  9e-01  0.9438  1e-02   0  0  0 |  0  0\n",
      " 3  +4.737e-01  -1.887e+00  +2e+00  1e-05  2e-08  3e-02  1e-01  0.8318  5e-03   0  0  0 |  0  0\n",
      " 4  +3.890e-01  +6.674e-02  +3e-01  2e-06  5e-09  1e-02  2e-02  0.9269  7e-02   0  0  0 |  0  0\n",
      " 5  +3.383e-01  +2.973e-01  +4e-02  2e-07  2e-09  2e-03  3e-03  0.8738  1e-03   0  0  0 |  0  0\n",
      " 6  +3.339e-01  +3.312e-01  +3e-03  1e-08  1e-10  1e-04  2e-04  0.9660  3e-02   0  0  0 |  0  0\n",
      " 7  +3.333e-01  +3.333e-01  +3e-05  2e-10  7e-12  1e-06  2e-06  0.9890  1e-04   0  0  0 |  0  0\n",
      " 8  +3.333e-01  +3.333e-01  +3e-07  2e-12  1e-13  2e-08  2e-08  0.9890  1e-04   1  0  0 |  0  0\n",
      " 9  +3.333e-01  +3.333e-01  +4e-09  2e-14  2e-15  2e-10  2e-10  0.9890  1e-04   1  0  0 |  0  0\n",
      "\n",
      "OPTIMAL (within feastol=1.9e-14, reltol=1.1e-08, abstol=3.7e-09).\n",
      "Runtime: 0.000708 seconds.\n",
      "\n"
     ]
    }
   ],
   "source": [
    "dims2={'l':(2*m+2*n),'q':[],'e':0}\n",
    "# solution2 = ecos.solve(c,G,h,dims2,G,h,max_iters=100000,verbose=True)\n",
    "solution2 = ecos.solve(c,G,h,dims2,max_iters=100000,verbose=True)"
   ]
  },
  {
   "cell_type": "code",
   "execution_count": 11,
   "metadata": {},
   "outputs": [
    {
     "name": "stdout",
     "output_type": "stream",
     "text": [
      "Optimal values of X:\n",
      "[ -6.60853616e-12   3.33333334e-01   3.33333334e-01]\n",
      "0.333333334059\n"
     ]
    }
   ],
   "source": [
    "print(\"Optimal values of X:\")\n",
    "opt_x2=solution2['x']\n",
    "print(opt_x2)\n",
    "Z=np.dot(c,opt_x2)\n",
    "print(Z)"
   ]
  }
 ],
 "metadata": {
  "kernelspec": {
   "display_name": "Python 3",
   "language": "python",
   "name": "python3"
  },
  "language_info": {
   "codemirror_mode": {
    "name": "ipython",
    "version": 3
   },
   "file_extension": ".py",
   "mimetype": "text/x-python",
   "name": "python",
   "nbconvert_exporter": "python",
   "pygments_lexer": "ipython3",
   "version": "3.6.3"
  }
 },
 "nbformat": 4,
 "nbformat_minor": 2
}
